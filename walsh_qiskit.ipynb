{
 "cells": [
  {
   "cell_type": "code",
   "execution_count": 239,
   "id": "044cde1e-fd32-4340-8bca-e42ae9d0bd6b",
   "metadata": {},
   "outputs": [],
   "source": [
    "from qiskit import QuantumRegister, ClassicalRegister, QuantumCircuit, transpile\n",
    "from qiskit import Aer\n",
    "import numpy as np\n",
    "import matplotlib.pyplot as plt\n",
    "from scipy.interpolate import interp1d"
   ]
  },
  {
   "cell_type": "code",
   "execution_count": 32,
   "id": "95419535-5168-4333-a801-2f95bb3060d4",
   "metadata": {},
   "outputs": [],
   "source": [
    "def walsh(order,x):\n",
    "    res = 1\n",
    "    x = np.modf(x)[0]\n",
    "    x *= 2\n",
    "    while order>0:\n",
    "        res *= (-1)**((order%2)*np.modf(x)[1])\n",
    "        order //= 2\n",
    "        x = np.modf(x)[0]\n",
    "        x *= 2\n",
    "    return res\n",
    "\n",
    "def walsh_coeff(f,order,M):\n",
    "    sampling_points = np.linspace(0,1,num=M,endpoint=False)\n",
    "    sampled_values = [walsh(order,i) for i in sampling_points]\n",
    "    return np.dot(f(sampling_points),sampled_values)/M\n",
    "\n",
    "def walsh_approximator(f,n,max_terms=1024):\n",
    "    #Returns a function f^eps, the Walsh approximation of f\n",
    "    # m = np.floor(np.log2(1/eps))+1\n",
    "    M = int(2**n)\n",
    "    # print('This is M',M)\n",
    "    all_coeffs = [walsh_coeff(f,j,M) for j in range(M)]\n",
    "    #Keep only largest max_terms coeffs sorted by absolute value\n",
    "    largest = sorted(zip(np.abs(all_coeffs),all_coeffs,range(M)),reverse=True)[:max_terms]\n",
    "    coeffs = [coeff for _,coeff,idx in largest]\n",
    "    orders = [idx for _,coeff,idx in largest]\n",
    "    def approximated_f(x):\n",
    "        values = [walsh(j,x) for j in orders]\n",
    "        return np.dot(coeffs,values)\n",
    "    return approximated_f, coeffs, orders\n",
    "\n",
    "def get_interp(amp_list):\n",
    "    return interp1d(np.linspace(0,1,num=amp_list.shape[0],endpoint=False),amp_list)"
   ]
  },
  {
   "cell_type": "code",
   "execution_count": 338,
   "id": "a2b52113-7125-4812-9c18-fb3b31e3174f",
   "metadata": {},
   "outputs": [],
   "source": [
    "def walsh_operator(qc,wires,ancilla,coeff,eps0):\n",
    "    for q in wires[:-1]:\n",
    "        qc.ccx(ancilla,q,wires[-1])\n",
    "    qc.crz(-2*coeff*eps0,ancilla,wires[-1])\n",
    "    for q in reversed(wires[:-1]):\n",
    "        qc.ccx(ancilla,q,wires[-1])\n",
    "\n",
    "def walsh_unitary(f,qc,wires,ancilla,eps0,k,max_terms):\n",
    "    approx_f,coeffs,orders = walsh_approximator(f,k,max_terms)\n",
    "    for coeff,order in zip(coeffs,orders):\n",
    "        bin_ord = list(np.binary_repr(order,width=len(wires)))\n",
    "        bin_ord.reverse()\n",
    "        bin_ord = np.array(bin_ord)\n",
    "        indices = np.where(bin_ord == '1')\n",
    "        on_wires = np.take_along_axis(np.array(wires),indices[0],0)\n",
    "        if order>0:\n",
    "            walsh_operator(qc,on_wires,ancilla,coeff,eps0)\n",
    "    return np.array(coeffs)[np.nonzero(np.array(orders)==0)]\n",
    "\n",
    "def walsh_state_prep(wires,ancilla,f,eps0,k,max_terms=1024):\n",
    "    qc = QuantumCircuit(ancilla,wires)\n",
    "    # while True:\n",
    "    for wire in wires:\n",
    "        qc.h(wire)\n",
    "    qc.h(ancilla)\n",
    "    zero_coeff = walsh_unitary(f,qc,wires,ancilla,eps0,k,max_terms)\n",
    "    if zero_coeff.size > 0:\n",
    "        qc.rz(1*zero_coeff[0]*eps0,ancilla)\n",
    "    qc.h(ancilla)\n",
    "    qc.sdg(ancilla)\n",
    "        # m_0 = qml.measure(ancilla,reset=True)\n",
    "        # if m_0 == 1:\n",
    "        #     break\n",
    "    return qc"
   ]
  },
  {
   "cell_type": "code",
   "execution_count": 339,
   "id": "3f5ee41b-a1cd-49db-92dc-261d32e4145c",
   "metadata": {},
   "outputs": [
    {
     "name": "stdout",
     "output_type": "stream",
     "text": [
      "[0.32625243 0.20549852 0.06385121 0.06388351 0.40718745 0.14377335\n",
      " 0.13000894 0.1063525  0.19175659 0.15268961 0.18574232 0.39246565\n",
      " 0.59231528 0.03207959 0.16172522 0.04301536]\n"
     ]
    }
   ],
   "source": [
    "num_qubits = 4\n",
    "amp_list = np.random.normal(0,1,2**num_qubits)\n",
    "amp_list = np.abs(amp_list)/np.linalg.norm(amp_list)\n",
    "print(amp_list)"
   ]
  },
  {
   "cell_type": "code",
   "execution_count": 340,
   "id": "6d5ed615-0dea-4a9f-8e77-4e983e7013c2",
   "metadata": {},
   "outputs": [],
   "source": [
    "reg = QuantumRegister(num_qubits,name='reg')\n",
    "anc = QuantumRegister(1,name='anc')\n",
    "cr = ClassicalRegister(num_qubits+1,name='c')\n",
    "qc = walsh_state_prep(reg,anc,get_interp(amp_list),11,num_qubits)\n",
    "# for i in range(num_qubits):\n",
    "#     qc.measure(reg[i],cr[i])\n",
    "# qc.measure(anc[0],cr[-1])"
   ]
  },
  {
   "cell_type": "code",
   "execution_count": 341,
   "id": "518deefe-8092-49d9-9a49-54f391d68190",
   "metadata": {},
   "outputs": [],
   "source": [
    "backend = Aer.get_backend('statevector_simulator')\n",
    "# print(qc.draw())\n",
    "qc_t = transpile(qc,backend=backend)\n",
    "# print(qc_t.draw())"
   ]
  },
  {
   "cell_type": "code",
   "execution_count": 352,
   "id": "e62b7f70-5f76-4854-9dee-c854b28e44a6",
   "metadata": {},
   "outputs": [
    {
     "name": "stdout",
     "output_type": "stream",
     "text": [
      "Statevector([ 0.        +0.j        , -0.27732277-0.23116443j,\n",
      "              0.        +0.j        , -0.32169445+0.01443983j,\n",
      "              0.        +0.j        , -0.12130791-0.26395997j,\n",
      "              0.        +0.j        , -0.02377843+0.03571272j,\n",
      "              0.        +0.j        , -0.09333856+0.08666426j,\n",
      "              0.        +0.j        , -0.31484041+0.02458694j,\n",
      "              0.        +0.j        , -0.22503415+0.09104964j,\n",
      "              0.        +0.j        , -0.28127149+0.05995947j,\n",
      "              0.        +0.j        , -0.33473844-0.01028773j,\n",
      "              0.        +0.j        , -0.26640743+0.07079169j,\n",
      "              0.        +0.j        , -0.25075732+0.07998299j,\n",
      "              0.        +0.j        , -0.03921135+0.05182526j,\n",
      "              0.        +0.j        , -0.09339923+0.08668969j,\n",
      "              0.        +0.j        , -0.15088601-0.26864171j,\n",
      "              0.        +0.j        , -0.17795866+0.10061535j,\n",
      "              0.        +0.j        , -0.05642566+0.06593172j],\n",
      "            dims=(2, 2, 2, 2, 2))\n"
     ]
    }
   ],
   "source": [
    "job = qiskit.execute(qc, Aer.get_backend('statevector_simulator'), shots=1,memory=True)\n",
    "job_result = job.result()\n",
    "statevector = job_result.get_statevector()\n",
    "while True:\n",
    "    res = statevector.measure([\n",
    "# counts = job_result.get_counts()\n",
    "# print(counts)\n",
    "# output = np.zeros(2**num_qubits)\n",
    "# for key,val in counts.items():\n",
    "#     if key[0] == '0':\n",
    "#         output[int(key[1:],2)] = val\n",
    "# print(output)\n",
    "# res = np.array([statevector[i] for i in range(1,2**(num_qubits+1),2)])\n",
    "# # print(res)\n",
    "# res = np.abs(res)/np.linalg.norm(res)\n",
    "# print(res)\n",
    "# test_points = np.linspace(0,1,num=2**num_qubits,endpoint=False)\n",
    "# plt.plot(test_points,output/np.sum(output))\n",
    "# plt.plot(test_points,get_interp(amp_list)(test_points))"
   ]
  },
  {
   "cell_type": "code",
   "execution_count": null,
   "id": "75063c2e-6d61-42f3-9668-5aa41c7a0c22",
   "metadata": {},
   "outputs": [],
   "source": [
    "num_wires = 8\n",
    "amp_list = np.abs(np.random.normal(0,1,2**num_wires))\n",
    "amp_list = amp_list/np.linalg.norm(amp_list)\n",
    "dev = qml.device('default.qubit',wires=num_wires+1)\n",
    "\n",
    "@qml.qnode(dev)\n",
    "def circuit(wires,ancilla,f,eps0,k,max_terms=1024):\n",
    "    walsh_state_prep(wires,ancilla,f,eps0,k,max_terms)\n",
    "    return qml.state()"
   ]
  }
 ],
 "metadata": {
  "kernelspec": {
   "display_name": "Python 3 (ipykernel)",
   "language": "python",
   "name": "python3"
  },
  "language_info": {
   "codemirror_mode": {
    "name": "ipython",
    "version": 3
   },
   "file_extension": ".py",
   "mimetype": "text/x-python",
   "name": "python",
   "nbconvert_exporter": "python",
   "pygments_lexer": "ipython3",
   "version": "3.9.1"
  }
 },
 "nbformat": 4,
 "nbformat_minor": 5
}
